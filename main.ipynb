{
 "cells": [
  {
   "cell_type": "markdown",
   "metadata": {},
   "source": [
    "Start by importing some modules that we mightneed."
   ]
  },
  {
   "cell_type": "code",
   "execution_count": 15,
   "metadata": {},
   "outputs": [
    {
     "name": "stdout",
     "output_type": "stream",
     "text": [
      "The autoreload extension is already loaded. To reload it, use:\n",
      "  %reload_ext autoreload\n"
     ]
    }
   ],
   "source": [
    "%load_ext autoreload\n",
    "%autoreload 2\n",
    "import math\n",
    "import torch\n",
    "import torch.nn as nn\n",
    "import torchvision\n",
    "from torch.nn.parameter import Parameter\n",
    "import torch.nn.functional as F\n",
    "import numpy as np\n",
    "import matplotlib.pyplot as plt\n",
    "from hmmlearn import hmm\n",
    "import os\n",
    "import numpy as np\n",
    "import pandas as pd\n",
    "import python_speech_features as speech\n",
    "from os import listdir\n",
    "from os.path import isfile, join\n",
    "from python_speech_features import mfcc\n",
    "from matplotlib import pyplot as plt\n",
    "import scipy.io.wavfile as wav\n",
    "from sklearn.metrics import confusion_matrix\n",
    "from pydub import AudioSegment\n",
    "from pydub.playback import play\n",
    "from tqdm.notebook import tqdm\n",
    "\n",
    "from helpers import *"
   ]
  },
  {
   "cell_type": "markdown",
   "metadata": {},
   "source": [
    "The focus of our project will be on style transfer for music generation. Specifically, our goal is to train a machine learning model that takes in two songs: a \"style\" song and a \"content\" song. The model will generate a version of the \"content\" song in the style of the \"style\" song. We will be using the GTZAN dataset. More information can be found here: http://marsyas.info/index.html\n",
    "\n",
    "This dataset has 1000 30-second song clips categorized into 10 genres, 100 per genre. The genres are blues, classical, country, disco, hiphop, jazz, metal, pop, reggae, and rock.\n",
    "\n",
    "We want to start with just two genres: classical and jazz. We chose these two genres because they don't have lyrics, so it might be easier to work with."
   ]
  },
  {
   "cell_type": "code",
   "execution_count": 17,
   "metadata": {},
   "outputs": [],
   "source": [
    "genres = ['classical','jazz']\n",
    "trainSet = getTrainSet(genres)\n",
    "print(trainSet[:5])"
   ]
  }
 ],
 "metadata": {
  "kernelspec": {
   "display_name": "Python 3",
   "language": "python",
   "name": "python3"
  },
  "language_info": {
   "codemirror_mode": {
    "name": "ipython",
    "version": 3
   },
   "file_extension": ".py",
   "mimetype": "text/x-python",
   "name": "python",
   "nbconvert_exporter": "python",
   "pygments_lexer": "ipython3",
   "version": "3.9.2"
  }
 },
 "nbformat": 4,
 "nbformat_minor": 2
}
